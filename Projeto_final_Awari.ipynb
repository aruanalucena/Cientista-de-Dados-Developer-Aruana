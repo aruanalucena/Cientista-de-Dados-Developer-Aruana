{
  "nbformat": 4,
  "nbformat_minor": 0,
  "metadata": {
    "colab": {
      "name": "Projeto_final_Awari.ipynb",
      "provenance": [],
      "collapsed_sections": [
        "AIAU3ffBjqmD",
        "tcadf8Njzt8h",
        "XfRaCkoY11Xq",
        "AsZkQKn-11bJ",
        "eVkcUposJvYN",
        "NZ_vgkr0wKjI",
        "6OZe62aQyJMj",
        "13ubDdRCycke",
        "3H73WKTn11eq",
        "S7BMx-pEzTgs",
        "-2z4X_Gy11iB"
      ],
      "authorship_tag": "ABX9TyMr790kO5YralLjw3MV7Ov9",
      "include_colab_link": true
    },
    "kernelspec": {
      "name": "python3",
      "display_name": "Python 3"
    }
  },
  "cells": [
    {
      "cell_type": "markdown",
      "metadata": {
        "id": "view-in-github",
        "colab_type": "text"
      },
      "source": [
        "<a href=\"https://colab.research.google.com/github/aruanalucena/Cientista-de-Dados-Developer-Aruana/blob/master/Projeto_final_Awari.ipynb\" target=\"_parent\"><img src=\"https://colab.research.google.com/assets/colab-badge.svg\" alt=\"Open In Colab\"/></a>"
      ]
    },
    {
      "cell_type": "markdown",
      "metadata": {
        "id": "e04ern44BZST"
      },
      "source": [
        "![Imgur](https://i.imgur.com/mbdq8P5.png)"
      ]
    },
    {
      "cell_type": "markdown",
      "metadata": {
        "id": "IMVgd4M_jGtZ"
      },
      "source": [
        "\r\n",
        "#  <font color='Blue'> **Projeto AWARI - Curso AWARI de Ciêntista de Dados**<font>\r\n",
        "*  Ministrado por Sara Malvar e Mentoria de Bruno Lucian  "
      ]
    },
    {
      "cell_type": "markdown",
      "metadata": {
        "id": "0buLdyuoqjmd"
      },
      "source": [
        "![Imgur](https://i.imgur.com/3jqbgTZ.jpg)\r\n",
        "# O objetivo:\r\n",
        "* Aplicar todo o conhecimento dado no curso de Cientista de dados , desenvolver as habilidades de entender as etapas e todos os processos para dominar a profissão e alcançar os objetivos\r\n",
        "### Linguagem de programação Python para manipular dados\r\n",
        "> * Pandas\r\n",
        "> * Bibliotecas\r\n",
        "### Machine Learning\r\n",
        "> * diversos algoritimos com suas especificidades \r\n",
        "### Storyteling\r\n",
        ">* Apresentar os resultados\r\n",
        ">* Desenvolver a escrita para produzir bons documentos, claros objetivos.\r\n",
        "### SQL \r\n",
        ">* Tabelas, chaves, modelos de dados, syntaxe"
      ]
    },
    {
      "cell_type": "markdown",
      "metadata": {
        "id": "AIAU3ffBjqmD"
      },
      "source": [
        "# ETAPAS DE UM PROJETO DE DATA SCIENCE .\r\n",
        "\r\n",
        "> Bloco com recuo\r\n",
        "\r\n",
        "---\r\n",
        "\r\n",
        "---\r\n",
        "\r\n",
        "---\r\n",
        "\r\n",
        "\r\n",
        "\r\n",
        "\r\n",
        "\r\n",
        "\r\n",
        "\r\n"
      ]
    },
    {
      "cell_type": "markdown",
      "metadata": {
        "id": "WOyW8L-pzqSV"
      },
      "source": [
        ""
      ]
    },
    {
      "cell_type": "markdown",
      "metadata": {
        "id": "xb1Kd3uEkUv0"
      },
      "source": [
        "![Imgur](https://i.imgur.com/DBHhXSW.png)"
      ]
    },
    {
      "cell_type": "markdown",
      "metadata": {
        "id": "3kzaQdOjpx3d"
      },
      "source": [
        "![Imgur](https://i.imgur.com/NNeD1c7.png)"
      ]
    },
    {
      "cell_type": "markdown",
      "metadata": {
        "id": "0rBsMAVrwbOd"
      },
      "source": [
        "# Guia para o notebook:\r\n",
        "<font color='#15a270'> >> </font> Textos precedidos de sinais na cor <font color='#15a270'> Verde </font> são comentários gerais feitos por mim. <br>\r\n",
        "<font color='Red'> >> </font> Textos precedidos de sinais na cor <font color='Red'> Vermelha </font> são questionamentos que tentarei responder. <br>\r\n",
        "<font color='Blue'> >> </font> Textos precedidos de sinais na cor <font color='Blue'> Azul </font> são respostas e hipóteses levantadas por mim para responder aos questionamentos anteriores."
      ]
    },
    {
      "cell_type": "markdown",
      "metadata": {
        "id": "fWFyfwdbzt43"
      },
      "source": [
        "# <font color = ' arrow'>**1 - Questão de Negócio**</font>\r\n",
        "### Definir questões a serem respondidas\r\n",
        "#### Modelo de machine Learning capaz de prever\r\n",
        "* Valor de venda. \r\n",
        "* Valor de Locação.\r\n",
        "* Sistema de recomendação.\r\n",
        "* Classificação de risco prever inadimplência.\r\n",
        "      * O Inquilino vai pagar em dia?\r\n",
        "* Documentação toda digital.\r\n",
        "\r\n",
        "\r\n",
        ">* Quais plataformas para fazer webscraping?\r\n",
        ">* Quais plataforma tem APIs?\r\n",
        ">* Quais informações coletar?\r\n",
        ">* Tipo de informação?\r\n",
        ">* Região dos dados?\r\n",
        ">*Segurança transacional de documentos?\r\n",
        ">* validação de assinaturas?\r\n"
      ]
    },
    {
      "cell_type": "markdown",
      "metadata": {
        "id": "tcadf8Njzt8h"
      },
      "source": [
        "# <font color = ' arrow'>**2- Análise exploratória/Limpeza/Exploraçaõ dos Dados**</font>\r\n",
        "![Imgur](https://i.imgur.com/8rS4iTd.jpg)"
      ]
    },
    {
      "cell_type": "code",
      "metadata": {
        "id": "bh--SeB8ugEV"
      },
      "source": [
        "\r\n",
        "# Importando Bibliotecas Essenciais, maratona_dudu\r\n",
        "import pandas as pd\r\n",
        "import numpy as np\r\n",
        "import matplotlib.pyplot as plt\r\n",
        "import seaborn as sns\r\n",
        "from sklearn.model_selection import train_test_split\r\n",
        "from sklearn.neighbors import KNeighborsClassifier\r\n",
        "from sklearn import metrics\r\n",
        "%matplotlib inline"
      ],
      "execution_count": 17,
      "outputs": []
    },
    {
      "cell_type": "code",
      "metadata": {
        "id": "1eeFR7PSuv9D"
      },
      "source": [
        "# Carregar os Dados\r\n",
        "data = pd.read_csv('/content/risco.csv')\r\n",
        "#data[['PAY_0', 'PAY_2', 'PAY_3', 'PAY_4', 'PAY_5', 'PAY_6']] += 2\r\n",
        "\r\n",
        "# Se conectando com os dados - Nesse caso, a Fonte de Dados é um Arquivo\r\n",
        "#dataset = pd.read_csv('dados.csv')"
      ],
      "execution_count": 21,
      "outputs": []
    },
    {
      "cell_type": "code",
      "metadata": {
        "id": "9EsqEr0CEelg",
        "colab": {
          "base_uri": "https://localhost:8080/"
        },
        "outputId": "90a6f125-c517-4be1-eaf0-5eedd634ffa4"
      },
      "source": [
        "# Informações do Dataset - Tipo das Variáveis, Quantidade de linhas (registros) e colunas (variáveis/features)\r\n",
        "data.info()"
      ],
      "execution_count": 22,
      "outputs": [
        {
          "output_type": "stream",
          "text": [
            "<class 'pandas.core.frame.DataFrame'>\n",
            "RangeIndex: 150 entries, 0 to 149\n",
            "Data columns (total 6 columns):\n",
            " #   Column           Non-Null Count  Dtype  \n",
            "---  ------           --------------  -----  \n",
            " 0   id_cliente       150 non-null    int64  \n",
            " 1   anot_cadastrais  150 non-null    float64\n",
            " 2   indice_inad      150 non-null    float64\n",
            " 3   class_renda      150 non-null    float64\n",
            " 4   saldo_contas     150 non-null    float64\n",
            " 5   Risco            150 non-null    object \n",
            "dtypes: float64(4), int64(1), object(1)\n",
            "memory usage: 7.2+ KB\n"
          ],
          "name": "stdout"
        }
      ]
    },
    {
      "cell_type": "code",
      "metadata": {
        "id": "ZN4fWQ_9EpZd",
        "colab": {
          "base_uri": "https://localhost:8080/"
        },
        "outputId": "8928703e-6e79-41f6-8017-fd20a8784a52"
      },
      "source": [
        "#Verifica as dimensões do dataset (antes de vírgula são linhas    ,     depois da vírgula são colunas)\r\n",
        "data.shape"
      ],
      "execution_count": 23,
      "outputs": [
        {
          "output_type": "execute_result",
          "data": {
            "text/plain": [
              "(150, 6)"
            ]
          },
          "metadata": {
            "tags": []
          },
          "execution_count": 23
        }
      ]
    },
    {
      "cell_type": "code",
      "metadata": {
        "id": "TjNNfRhgEpdg",
        "colab": {
          "base_uri": "https://localhost:8080/"
        },
        "outputId": "dfe83348-30fd-41b7-988d-0ca85b5edf45"
      },
      "source": [
        "# Cria uma função para imprimir na tela o resultado da função SHAPE\r\n",
        "print(f\"Data tem {data.shape[0]} linhas e {data.shape[1]} colunas.\")"
      ],
      "execution_count": 25,
      "outputs": [
        {
          "output_type": "stream",
          "text": [
            "Data tem 150 linhas e 6 colunas.\n"
          ],
          "name": "stdout"
        }
      ]
    },
    {
      "cell_type": "code",
      "metadata": {
        "id": "5gA9fMGZEph6",
        "colab": {
          "base_uri": "https://localhost:8080/",
          "height": 287
        },
        "outputId": "c3e1937c-cf6a-401f-9831-dc1e2d69528c"
      },
      "source": [
        "#Estatísticas descritivas das variáveis numéricas\r\n",
        "data.describe()"
      ],
      "execution_count": 27,
      "outputs": [
        {
          "output_type": "execute_result",
          "data": {
            "text/html": [
              "<div>\n",
              "<style scoped>\n",
              "    .dataframe tbody tr th:only-of-type {\n",
              "        vertical-align: middle;\n",
              "    }\n",
              "\n",
              "    .dataframe tbody tr th {\n",
              "        vertical-align: top;\n",
              "    }\n",
              "\n",
              "    .dataframe thead th {\n",
              "        text-align: right;\n",
              "    }\n",
              "</style>\n",
              "<table border=\"1\" class=\"dataframe\">\n",
              "  <thead>\n",
              "    <tr style=\"text-align: right;\">\n",
              "      <th></th>\n",
              "      <th>id_cliente</th>\n",
              "      <th>anot_cadastrais</th>\n",
              "      <th>indice_inad</th>\n",
              "      <th>class_renda</th>\n",
              "      <th>saldo_contas</th>\n",
              "    </tr>\n",
              "  </thead>\n",
              "  <tbody>\n",
              "    <tr>\n",
              "      <th>count</th>\n",
              "      <td>150.000000</td>\n",
              "      <td>150.000000</td>\n",
              "      <td>150.000000</td>\n",
              "      <td>150.000000</td>\n",
              "      <td>150.000000</td>\n",
              "    </tr>\n",
              "    <tr>\n",
              "      <th>mean</th>\n",
              "      <td>74.500000</td>\n",
              "      <td>5.843333</td>\n",
              "      <td>3.054000</td>\n",
              "      <td>3.758667</td>\n",
              "      <td>1.198667</td>\n",
              "    </tr>\n",
              "    <tr>\n",
              "      <th>std</th>\n",
              "      <td>43.445368</td>\n",
              "      <td>0.828066</td>\n",
              "      <td>0.433594</td>\n",
              "      <td>1.764420</td>\n",
              "      <td>0.763161</td>\n",
              "    </tr>\n",
              "    <tr>\n",
              "      <th>min</th>\n",
              "      <td>0.000000</td>\n",
              "      <td>4.300000</td>\n",
              "      <td>2.000000</td>\n",
              "      <td>1.000000</td>\n",
              "      <td>0.100000</td>\n",
              "    </tr>\n",
              "    <tr>\n",
              "      <th>25%</th>\n",
              "      <td>37.250000</td>\n",
              "      <td>5.100000</td>\n",
              "      <td>2.800000</td>\n",
              "      <td>1.600000</td>\n",
              "      <td>0.300000</td>\n",
              "    </tr>\n",
              "    <tr>\n",
              "      <th>50%</th>\n",
              "      <td>74.500000</td>\n",
              "      <td>5.800000</td>\n",
              "      <td>3.000000</td>\n",
              "      <td>4.350000</td>\n",
              "      <td>1.300000</td>\n",
              "    </tr>\n",
              "    <tr>\n",
              "      <th>75%</th>\n",
              "      <td>111.750000</td>\n",
              "      <td>6.400000</td>\n",
              "      <td>3.300000</td>\n",
              "      <td>5.100000</td>\n",
              "      <td>1.800000</td>\n",
              "    </tr>\n",
              "    <tr>\n",
              "      <th>max</th>\n",
              "      <td>149.000000</td>\n",
              "      <td>7.900000</td>\n",
              "      <td>4.400000</td>\n",
              "      <td>6.900000</td>\n",
              "      <td>2.500000</td>\n",
              "    </tr>\n",
              "  </tbody>\n",
              "</table>\n",
              "</div>"
            ],
            "text/plain": [
              "       id_cliente  anot_cadastrais  indice_inad  class_renda  saldo_contas\n",
              "count  150.000000       150.000000   150.000000   150.000000    150.000000\n",
              "mean    74.500000         5.843333     3.054000     3.758667      1.198667\n",
              "std     43.445368         0.828066     0.433594     1.764420      0.763161\n",
              "min      0.000000         4.300000     2.000000     1.000000      0.100000\n",
              "25%     37.250000         5.100000     2.800000     1.600000      0.300000\n",
              "50%     74.500000         5.800000     3.000000     4.350000      1.300000\n",
              "75%    111.750000         6.400000     3.300000     5.100000      1.800000\n",
              "max    149.000000         7.900000     4.400000     6.900000      2.500000"
            ]
          },
          "metadata": {
            "tags": []
          },
          "execution_count": 27
        }
      ]
    },
    {
      "cell_type": "code",
      "metadata": {
        "id": "JufmdFSzE6nS",
        "colab": {
          "base_uri": "https://localhost:8080/"
        },
        "outputId": "76076698-01f1-48ea-8014-c8ba1218b449"
      },
      "source": [
        "# Tabela de Frequência da Variável \"risco\" - Nossa Classe ou Label ou Target\r\n",
        "data['Risco'].value_counts()"
      ],
      "execution_count": 28,
      "outputs": [
        {
          "output_type": "execute_result",
          "data": {
            "text/plain": [
              "Risco_Baixo    50\n",
              "Risco_Medio    50\n",
              "Risco_Alto     50\n",
              "Name: Risco, dtype: int64"
            ]
          },
          "metadata": {
            "tags": []
          },
          "execution_count": 28
        }
      ]
    },
    {
      "cell_type": "code",
      "metadata": {
        "id": "isCkHDbzE6sf",
        "colab": {
          "base_uri": "https://localhost:8080/"
        },
        "outputId": "5d8de7bd-d86e-4d55-d982-cca05e10e1a2"
      },
      "source": [
        "# Forma adicional de criar a Tab. de Frequência\r\n",
        "data.Risco.value_counts()"
      ],
      "execution_count": 29,
      "outputs": [
        {
          "output_type": "execute_result",
          "data": {
            "text/plain": [
              "Risco_Baixo    50\n",
              "Risco_Medio    50\n",
              "Risco_Alto     50\n",
              "Name: Risco, dtype: int64"
            ]
          },
          "metadata": {
            "tags": []
          },
          "execution_count": 29
        }
      ]
    },
    {
      "cell_type": "code",
      "metadata": {
        "id": "tE45H0EbE6xa",
        "colab": {
          "base_uri": "https://localhost:8080/",
          "height": 353
        },
        "outputId": "c9f55453-6719-422b-ede7-70152e4374d9"
      },
      "source": [
        "# Cria um gráfico de barras da variável Target\r\n",
        "sns.countplot(data['Risco'])"
      ],
      "execution_count": 30,
      "outputs": [
        {
          "output_type": "stream",
          "text": [
            "/usr/local/lib/python3.6/dist-packages/seaborn/_decorators.py:43: FutureWarning: Pass the following variable as a keyword arg: x. From version 0.12, the only valid positional argument will be `data`, and passing other arguments without an explicit keyword will result in an error or misinterpretation.\n",
            "  FutureWarning\n"
          ],
          "name": "stderr"
        },
        {
          "output_type": "execute_result",
          "data": {
            "text/plain": [
              "<matplotlib.axes._subplots.AxesSubplot at 0x7f279a6c3a90>"
            ]
          },
          "metadata": {
            "tags": []
          },
          "execution_count": 30
        },
        {
          "output_type": "display_data",
          "data": {
            "image/png": "[encoded data removed]",
            "text/plain": [
              "<Figure size 432x288 with 1 Axes>"
            ]
          },
          "metadata": {
            "tags": [],
            "needs_background": "light"
          }
        }
      ]
    },
    {
      "cell_type": "code",
      "metadata": {
        "id": "Sp4gXboeE671",
        "colab": {
          "base_uri": "https://localhost:8080/"
        },
        "outputId": "07a4c075-87ae-4c00-e004-a8322a855e4f"
      },
      "source": [
        "# Check for missing values\r\n",
        "data.isna().sum()"
      ],
      "execution_count": 31,
      "outputs": [
        {
          "output_type": "execute_result",
          "data": {
            "text/plain": [
              "id_cliente         0\n",
              "anot_cadastrais    0\n",
              "indice_inad        0\n",
              "class_renda        0\n",
              "saldo_contas       0\n",
              "Risco              0\n",
              "dtype: int64"
            ]
          },
          "metadata": {
            "tags": []
          },
          "execution_count": 31
        }
      ]
    },
    {
      "cell_type": "code",
      "metadata": {
        "id": "ArxQkPeAE7Ao"
      },
      "source": [
        "#Eliminar a coluna de identificação, pois ela não é variável explicativa, é somente a identificação do cliente7\r\n",
        "dataset = data.drop(columns='id_cliente')"
      ],
      "execution_count": 32,
      "outputs": []
    },
    {
      "cell_type": "code",
      "metadata": {
        "id": "dC_v_1NhEpp5",
        "colab": {
          "base_uri": "https://localhost:8080/",
          "height": 406
        },
        "outputId": "a3d75af7-f15d-4427-cdb1-b011b70da8b1"
      },
      "source": [
        "#Printa o dataset na tela\r\n",
        "data"
      ],
      "execution_count": 33,
      "outputs": [
        {
          "output_type": "execute_result",
          "data": {
            "text/html": [
              "<div>\n",
              "<style scoped>\n",
              "    .dataframe tbody tr th:only-of-type {\n",
              "        vertical-align: middle;\n",
              "    }\n",
              "\n",
              "    .dataframe tbody tr th {\n",
              "        vertical-align: top;\n",
              "    }\n",
              "\n",
              "    .dataframe thead th {\n",
              "        text-align: right;\n",
              "    }\n",
              "</style>\n",
              "<table border=\"1\" class=\"dataframe\">\n",
              "  <thead>\n",
              "    <tr style=\"text-align: right;\">\n",
              "      <th></th>\n",
              "      <th>id_cliente</th>\n",
              "      <th>anot_cadastrais</th>\n",
              "      <th>indice_inad</th>\n",
              "      <th>class_renda</th>\n",
              "      <th>saldo_contas</th>\n",
              "      <th>Risco</th>\n",
              "    </tr>\n",
              "  </thead>\n",
              "  <tbody>\n",
              "    <tr>\n",
              "      <th>0</th>\n",
              "      <td>0</td>\n",
              "      <td>5.1</td>\n",
              "      <td>3.5</td>\n",
              "      <td>1.4</td>\n",
              "      <td>0.2</td>\n",
              "      <td>Risco_Alto</td>\n",
              "    </tr>\n",
              "    <tr>\n",
              "      <th>1</th>\n",
              "      <td>1</td>\n",
              "      <td>4.9</td>\n",
              "      <td>3.0</td>\n",
              "      <td>1.4</td>\n",
              "      <td>0.2</td>\n",
              "      <td>Risco_Alto</td>\n",
              "    </tr>\n",
              "    <tr>\n",
              "      <th>2</th>\n",
              "      <td>2</td>\n",
              "      <td>4.7</td>\n",
              "      <td>3.2</td>\n",
              "      <td>1.3</td>\n",
              "      <td>0.2</td>\n",
              "      <td>Risco_Alto</td>\n",
              "    </tr>\n",
              "    <tr>\n",
              "      <th>3</th>\n",
              "      <td>3</td>\n",
              "      <td>4.6</td>\n",
              "      <td>3.1</td>\n",
              "      <td>1.5</td>\n",
              "      <td>0.2</td>\n",
              "      <td>Risco_Alto</td>\n",
              "    </tr>\n",
              "    <tr>\n",
              "      <th>4</th>\n",
              "      <td>4</td>\n",
              "      <td>5.0</td>\n",
              "      <td>3.6</td>\n",
              "      <td>1.4</td>\n",
              "      <td>0.2</td>\n",
              "      <td>Risco_Alto</td>\n",
              "    </tr>\n",
              "    <tr>\n",
              "      <th>...</th>\n",
              "      <td>...</td>\n",
              "      <td>...</td>\n",
              "      <td>...</td>\n",
              "      <td>...</td>\n",
              "      <td>...</td>\n",
              "      <td>...</td>\n",
              "    </tr>\n",
              "    <tr>\n",
              "      <th>145</th>\n",
              "      <td>145</td>\n",
              "      <td>6.7</td>\n",
              "      <td>3.0</td>\n",
              "      <td>5.2</td>\n",
              "      <td>2.3</td>\n",
              "      <td>Risco_Baixo</td>\n",
              "    </tr>\n",
              "    <tr>\n",
              "      <th>146</th>\n",
              "      <td>146</td>\n",
              "      <td>6.3</td>\n",
              "      <td>2.5</td>\n",
              "      <td>5.0</td>\n",
              "      <td>1.9</td>\n",
              "      <td>Risco_Baixo</td>\n",
              "    </tr>\n",
              "    <tr>\n",
              "      <th>147</th>\n",
              "      <td>147</td>\n",
              "      <td>6.5</td>\n",
              "      <td>3.0</td>\n",
              "      <td>5.2</td>\n",
              "      <td>2.0</td>\n",
              "      <td>Risco_Baixo</td>\n",
              "    </tr>\n",
              "    <tr>\n",
              "      <th>148</th>\n",
              "      <td>148</td>\n",
              "      <td>6.2</td>\n",
              "      <td>3.4</td>\n",
              "      <td>5.4</td>\n",
              "      <td>2.3</td>\n",
              "      <td>Risco_Baixo</td>\n",
              "    </tr>\n",
              "    <tr>\n",
              "      <th>149</th>\n",
              "      <td>149</td>\n",
              "      <td>5.9</td>\n",
              "      <td>3.0</td>\n",
              "      <td>5.1</td>\n",
              "      <td>1.8</td>\n",
              "      <td>Risco_Baixo</td>\n",
              "    </tr>\n",
              "  </tbody>\n",
              "</table>\n",
              "<p>150 rows × 6 columns</p>\n",
              "</div>"
            ],
            "text/plain": [
              "     id_cliente  anot_cadastrais  ...  saldo_contas        Risco\n",
              "0             0              5.1  ...           0.2   Risco_Alto\n",
              "1             1              4.9  ...           0.2   Risco_Alto\n",
              "2             2              4.7  ...           0.2   Risco_Alto\n",
              "3             3              4.6  ...           0.2   Risco_Alto\n",
              "4             4              5.0  ...           0.2   Risco_Alto\n",
              "..          ...              ...  ...           ...          ...\n",
              "145         145              6.7  ...           2.3  Risco_Baixo\n",
              "146         146              6.3  ...           1.9  Risco_Baixo\n",
              "147         147              6.5  ...           2.0  Risco_Baixo\n",
              "148         148              6.2  ...           2.3  Risco_Baixo\n",
              "149         149              5.9  ...           1.8  Risco_Baixo\n",
              "\n",
              "[150 rows x 6 columns]"
            ]
          },
          "metadata": {
            "tags": []
          },
          "execution_count": 33
        }
      ]
    },
    {
      "cell_type": "code",
      "metadata": {
        "id": "aA0nX9suFcU-"
      },
      "source": [
        "# Cria um gráfico tipo box and whisker plots (o famoso boxplot)\r\n",
        "# from matplotlib import pyplot\r\n",
        "# dataset.plot(kind='box', subplots=True, layout=(2,2), sharex=False, sharey=False)\r\n",
        "# pyplot.show()"
      ],
      "execution_count": null,
      "outputs": []
    },
    {
      "cell_type": "code",
      "metadata": {
        "id": "20taQXk1FcY0"
      },
      "source": [
        "#cria um gráfico conhecido como histohrama\r\n",
        "# dataset.hist()\r\n",
        "# plt.show()"
      ],
      "execution_count": null,
      "outputs": []
    },
    {
      "cell_type": "code",
      "metadata": {
        "id": "QmPfL2bpFcbq"
      },
      "source": [
        "# Criação do Gráfico de dispersão (scatter) conhecido como pairplot\r\n",
        "# sns.pairplot(dataset, hue='Risco', kind=\"reg\") # kind=reg é a reta de regressão"
      ],
      "execution_count": null,
      "outputs": []
    },
    {
      "cell_type": "code",
      "metadata": {
        "id": "4EcZBM7BFcfJ"
      },
      "source": [
        "# Criação do Gráfico de dispersão sem agregar pelo TARGET\r\n",
        "# sns.pairplot(dataset,kind=\"reg\")"
      ],
      "execution_count": null,
      "outputs": []
    },
    {
      "cell_type": "code",
      "metadata": {
        "id": "E6z07OdPvK-X"
      },
      "source": [
        "#X = data.drop('default payment next month', axis=1)\r\n",
        "# y = data['default payment next month'].copy()"
      ],
      "execution_count": null,
      "outputs": []
    },
    {
      "cell_type": "markdown",
      "metadata": {
        "id": "D3gu9k_sx669"
      },
      "source": [
        "\r\n",
        "# <font color = ' arrow'>**Webscraping**</font>"
      ]
    },
    {
      "cell_type": "code",
      "metadata": {
        "id": "G2jJQRQ0xrn3"
      },
      "source": [
        "from selenium import webdriver\r\n",
        "from selenium.webdriver.common.keys import keysimport pandas as pd"
      ],
      "execution_count": null,
      "outputs": []
    },
    {
      "cell_type": "code",
      "metadata": {
        "id": "BIvXlbd4xsHX"
      },
      "source": [
        "driver = webdriver.chrome('/home/aruana/ChromeDriver/crromedriver')"
      ],
      "execution_count": null,
      "outputs": []
    },
    {
      "cell_type": "code",
      "metadata": {
        "id": "cOQ59lflxsL5"
      },
      "source": [
        "driver.get('https://www.vivareal.com.br/')"
      ],
      "execution_count": null,
      "outputs": []
    },
    {
      "cell_type": "code",
      "metadata": {
        "id": "3KdmJb911YUw"
      },
      "source": [
        "items =  len(driver.find_elements_by_class_name('property-card__title js-cardLink js-card-title'))\r\n"
      ],
      "execution_count": null,
      "outputs": []
    },
    {
      "cell_type": "code",
      "metadata": {
        "id": "0CgVuFLO3PVF"
      },
      "source": [
        "total =[]\r\n",
        "for item in range(items):\r\n",
        "      items = driver.find_elements_byClass_name('property-card__title js-cardLink js-card-title')\r\n",
        "for item in items:\r\n",
        "      t_content = item.find_element_by_class_name('content').text\r\n",
        "      t_header = item.find_element_by_class_name('header').text\r\n",
        "      t_address = item.find_element_by_class_name('address').text\r\n",
        "      t_map-link = item.find_element_by_class_name('map-link').text\r\n",
        "      t_details = item.find_element_by_class_name('details').text\r\n",
        "      t_amenities = item.find_element_by_class_name('amenities').text\r\n",
        "      new = ((t_content,  t_header,t_address,  t_map-link, t_details, t_amenities ))\r\n",
        "      total.append(new)"
      ],
      "execution_count": null,
      "outputs": []
    },
    {
      "cell_type": "code",
      "metadata": {
        "id": "rsKJg2mH7rM4"
      },
      "source": [
        "total"
      ],
      "execution_count": null,
      "outputs": []
    },
    {
      "cell_type": "code",
      "metadata": {
        "id": "_i7ZTips7ydD"
      },
      "source": [
        "df = pd.DataFrame(total, columns=['Content','Header','Address', 'Map-link','Details','Amenities'])"
      ],
      "execution_count": null,
      "outputs": []
    },
    {
      "cell_type": "code",
      "metadata": {
        "id": "Qw2keGJx8VBf"
      },
      "source": [
        "df.head()"
      ],
      "execution_count": null,
      "outputs": []
    },
    {
      "cell_type": "markdown",
      "metadata": {
        "id": "XfRaCkoY11Xq"
      },
      "source": [
        "\r\n",
        "# <font color = ' arrow'>**3 - Interpretar e Modelar os Dados**</font>"
      ]
    },
    {
      "cell_type": "code",
      "metadata": {
        "id": "DdLhL1x6IDzb"
      },
      "source": [
        "#3 Separando as Variáveis de Entrada e Saída do Modelo\r\n",
        "#X = dataset.iloc[:,:-1].values  #variáveis independentes\r\n",
        "# y = dataset.iloc[:,-1].values  #Target/labe/class/vairável dependente"
      ],
      "execution_count": null,
      "outputs": []
    },
    {
      "cell_type": "code",
      "metadata": {
        "id": "PEb9lTTRJA7p"
      },
      "source": [
        "#Print das variáveis X e Y\r\n",
        "# print(\"\\nVariáveis de Entrada da avaliação:\\n\\n\", X[:3])\r\n",
        "# print(\"\\nRisco - Variável a ser Predita :\\n\\n\", y[:3])"
      ],
      "execution_count": null,
      "outputs": []
    },
    {
      "cell_type": "code",
      "metadata": {
        "id": "_WA4CzN1JE56"
      },
      "source": [
        "# X"
      ],
      "execution_count": null,
      "outputs": []
    },
    {
      "cell_type": "code",
      "metadata": {
        "id": "9FnehKMmJHuZ"
      },
      "source": [
        "# Y"
      ],
      "execution_count": null,
      "outputs": []
    },
    {
      "cell_type": "code",
      "metadata": {
        "id": "U8Vk3LGsJL-s"
      },
      "source": [
        "#Divide o dataset em Train and Test \r\n",
        "# X_train, X_test, y_train, y_test = train_test_split(X ,y, test_size=0.2, random_state = 7) "
      ],
      "execution_count": null,
      "outputs": []
    },
    {
      "cell_type": "code",
      "metadata": {
        "id": "556sn1GsJMJS"
      },
      "source": [
        "#print(\"Dados de Treino :\\n----------------\\n\")\r\n",
        "#print(\"X = \\n\", X_train[:2])\r\n",
        "#print(\"y = \\n\", y_train[:2])\r\n",
        "\r\n",
        "# print(\"\\n\\nDados de Teste :\\n----------------\\n\")\r\n",
        "#print(\"X = \\n\",X_test[:2])\r\n",
        "# print(\"y = \\n\", y_test[:2])"
      ],
      "execution_count": null,
      "outputs": []
    },
    {
      "cell_type": "code",
      "metadata": {
        "id": "AG5mSm9FJMNR"
      },
      "source": [
        "# print(f\"Shape dos dados de treino é {X_train.shape}\")\r\n",
        "# print(f\"Shape dos dados de teste é {X_test.shape}\")"
      ],
      "execution_count": null,
      "outputs": []
    },
    {
      "cell_type": "code",
      "metadata": {
        "id": "r0hf7FxFJMRf"
      },
      "source": [
        "#Redimensionando os dados - PADRONIZAÇÂO - Feature scaling\r\n",
        "# from sklearn.preprocessing import StandardScaler\r\n",
        "# sc = StandardScaler()\r\n",
        "\r\n",
        "# X_train = sc.fit_transform(X_train)\r\n",
        "# X_test = sc.transform(X_test) \r\n",
        "\r\n",
        "# print(\"\\n--------------------------------\\nDataset depois da padronização:\\n--------------------------------\\n\", )\r\n",
        "\r\n",
        "# print(\"\\nX_train :\\n\", X_train[:5])\r\n",
        "# print(\"-------------------------\")\r\n",
        "# print(\"\\nX_test :\\n\", X_test[:5])"
      ],
      "execution_count": null,
      "outputs": []
    },
    {
      "cell_type": "code",
      "metadata": {
        "id": "uLi7zYdzJfJX"
      },
      "source": [
        ""
      ],
      "execution_count": null,
      "outputs": []
    },
    {
      "cell_type": "code",
      "metadata": {
        "id": "wqIM64iXJfNX"
      },
      "source": [
        ""
      ],
      "execution_count": null,
      "outputs": []
    },
    {
      "cell_type": "code",
      "metadata": {
        "id": "sfHZNaSNJfRa"
      },
      "source": [
        ""
      ],
      "execution_count": null,
      "outputs": []
    },
    {
      "cell_type": "code",
      "metadata": {
        "id": "JqhvTufaJfXj"
      },
      "source": [
        ""
      ],
      "execution_count": null,
      "outputs": []
    },
    {
      "cell_type": "code",
      "metadata": {
        "id": "lDcxuoe7IJmD"
      },
      "source": [
        "#Print das variáveis X e Y\r\n",
        "# print(\"\\nVariáveis de Entrada da avaliação:\\n\\n\", X[:3])\r\n",
        "# print(\"\\nRisco - Variável a ser Predita :\\n\\n\", y[:3])"
      ],
      "execution_count": null,
      "outputs": []
    },
    {
      "cell_type": "code",
      "metadata": {
        "id": "yt_PyCfEvXbv"
      },
      "source": [
        "# Separação entre treino e teste\r\n",
        "#from sklearn.ensemble import RandomForestClassifier\r\n",
        "#from sklearn.model_selection import cross_val_score, KFold, train_test_split\r\n",
        "\r\n",
        "#X_train, X_test, y_train, y_test = train_test_split(X, y, test_size=0.3, random_state=2)"
      ],
      "execution_count": null,
      "outputs": []
    },
    {
      "cell_type": "markdown",
      "metadata": {
        "id": "rBnT2KX-ysso"
      },
      "source": [
        ""
      ]
    },
    {
      "cell_type": "markdown",
      "metadata": {
        "id": "AsZkQKn-11bJ"
      },
      "source": [
        "\r\n",
        "# <font color = ' arrow'>**4- Algorítimos de Machine Learning**</font>"
      ]
    },
    {
      "cell_type": "markdown",
      "metadata": {
        "id": "eVkcUposJvYN"
      },
      "source": [
        "### 1° Versão da Máquina Preditiva: Criando um **baseline**\r\n",
        "\r\n",
        "Aqui nós vamos criar a primeira versão da Máquina Preditiva. Depois, vamos buscar formas de melhorar a assertividade do modelo. "
      ]
    },
    {
      "cell_type": "code",
      "metadata": {
        "id": "PywTaj8qJp3n"
      },
      "source": [
        "# Importando a Biblioteca KNN\r\n",
        "# from sklearn.neighbors import KNeighborsClassifier\r\n",
        "# Maquina_Preditiva = KNeighborsClassifier(n_neighbors=30) #[1,10,30,50]"
      ],
      "execution_count": null,
      "outputs": []
    },
    {
      "cell_type": "code",
      "metadata": {
        "id": "uuFYC4EeJp7L"
      },
      "source": [
        "#Treinando a Máquina preditiva com os dados de treino\r\n",
        "# Maquina_Preditiva = Maquina_Preditiva.fit(X_train,y_train)"
      ],
      "execution_count": null,
      "outputs": []
    },
    {
      "cell_type": "code",
      "metadata": {
        "id": "qOHQJCplJp-b"
      },
      "source": [
        "#Fazendo novas Previsões com os dados de teste\r\n",
        "# y_pred = Maquina_Preditiva.predict(X_test)\r\n",
        "\r\n",
        "\r\n",
        "# print(\"\\n---------------------------\\n\")\r\n",
        "# print(\"Valores Reais com dados de teste :\\n\",y_test)\r\n",
        "\r\n",
        "# print(\"\\n---------------------------\\n\")\r\n",
        "# print(\"Valores Preditos com a Máquina Preditiva com dados de Teste :\\n\",y_pred)"
      ],
      "execution_count": null,
      "outputs": []
    },
    {
      "cell_type": "code",
      "metadata": {
        "id": "lvThoSvXJqCF"
      },
      "source": [
        "#Função que mostra os hyperparâmetros utilizados na construção da Máquina Preditiva \r\n",
        "Maquina_Preditiva.get_params"
      ],
      "execution_count": null,
      "outputs": []
    },
    {
      "cell_type": "code",
      "metadata": {
        "id": "M5l7Qt7FJqFD"
      },
      "source": [
        ""
      ],
      "execution_count": null,
      "outputs": []
    },
    {
      "cell_type": "code",
      "metadata": {
        "id": "SdllW1EIJqHH"
      },
      "source": [
        ""
      ],
      "execution_count": null,
      "outputs": []
    },
    {
      "cell_type": "code",
      "metadata": {
        "id": "MwLtxbLcJqO_"
      },
      "source": [
        ""
      ],
      "execution_count": null,
      "outputs": []
    },
    {
      "cell_type": "markdown",
      "metadata": {
        "id": "NZ_vgkr0wKjI"
      },
      "source": [
        "### <font color = ' blue '>Regressão Logistica"
      ]
    },
    {
      "cell_type": "code",
      "metadata": {
        "id": "KLmqfOmqvtec"
      },
      "source": [
        "#parece que o random_state do LogisticRegression não está funcionando, \r\n",
        "#então este modelo pode dar resultados diferentes cada vez que for rodado\r\n",
        "from sklearn.preprocessing import OneHotEncoder\r\n",
        "from sklearn.pipeline import make_pipeline\r\n",
        "from sklearn.linear_model import LogisticRegression\r\n",
        "kf = KFold(n_splits=5, random_state=0, shuffle=True)\r\n",
        "\r\n",
        "categs = [1,2,3,4,5,6,7,8,9,10]\r\n",
        "ohe = OneHotEncoder(categorical_features=categs, handle_unknown='ignore')\r\n",
        "model = make_pipeline(ohe, LogisticRegression(C=0.5, random_state=1, class_weight='balanced'))\r\n",
        "cross_val_score(model, X_train, y_train, n_jobs=-1, cv=kf, scoring='roc_auc').mean()\r\n"
      ],
      "execution_count": null,
      "outputs": []
    },
    {
      "cell_type": "markdown",
      "metadata": {
        "id": "6OZe62aQyJMj"
      },
      "source": [
        "### <font color = ' blue '>Random Forest"
      ]
    },
    {
      "cell_type": "code",
      "metadata": {
        "id": "wHT1wYwqyFoK"
      },
      "source": [
        "from sklearn.ensemble import RandomForestClassifier\r\n",
        "kf = KFold(n_splits=5, random_state=0, shuffle=True)\r\n",
        "\r\n",
        "model = RandomForestClassifier(n_jobs=-1, n_estimators=500, max_features=6, min_samples_leaf=20, random_state=0, class_weight='balanced')\r\n",
        "cross_val_score(model, X_train, y_train, n_jobs=1, cv=kf, scoring='roc_auc').mean()"
      ],
      "execution_count": null,
      "outputs": []
    },
    {
      "cell_type": "markdown",
      "metadata": {
        "id": "13ubDdRCycke"
      },
      "source": [
        "### <font color = ' blue '>Gradient Boosted Trees"
      ]
    },
    {
      "cell_type": "code",
      "metadata": {
        "id": "Fbyl0ndfyfmv"
      },
      "source": [
        "import xgboost as xgb\r\n",
        "\r\n",
        "kf = KFold(n_splits=5, random_state=0, shuffle=True)\r\n",
        "\r\n",
        "model = xgb.XGBClassifier(learning_rate=0.009, max_depth=6, min_child_weight=3,\r\n",
        "                     subsample=0.15, colsample_bylevel=0.85, n_estimators=500)\r\n",
        "cross_val_score(model, X_train, y_train, n_jobs=1, cv=kf, scoring='roc_auc').mean()"
      ],
      "execution_count": null,
      "outputs": []
    },
    {
      "cell_type": "code",
      "metadata": {
        "id": "zkE2GC3Ky8tv"
      },
      "source": [
        ""
      ],
      "execution_count": null,
      "outputs": []
    },
    {
      "cell_type": "markdown",
      "metadata": {
        "id": "3H73WKTn11eq"
      },
      "source": [
        "\r\n",
        "# <font color = ' arrow'>**5 - Avaliação do Algoritimo**</font>"
      ]
    },
    {
      "cell_type": "code",
      "metadata": {
        "id": "WiSdDQa2KHCb"
      },
      "source": [
        "# Calculando a Acurácia\r\n",
        "# from sklearn import metrics\r\n",
        "# print(\"Acurácia da Máquina = \", metrics.accuracy_score(y_test, y_pred)*100)"
      ],
      "execution_count": null,
      "outputs": []
    },
    {
      "cell_type": "code",
      "metadata": {
        "id": "r7m9gWRWKHG3"
      },
      "source": [
        "# Comparando Real e Predito com dados de Teste\r\n",
        "# print(\"\\nReal vs Predito \\n------------------------------\\n\")\r\n",
        "# error_df = pd.DataFrame({\"Real\" : y_test,\r\n",
        "  #                       \"Predito\" : y_pred})\r\n",
        "\r\n",
        "# error_df.head(5)"
      ],
      "execution_count": null,
      "outputs": []
    },
    {
      "cell_type": "code",
      "metadata": {
        "id": "szNy--9oKHKj"
      },
      "source": [
        "#Usando a confusion matrix  e o classification report para avaliar a acurácia e demais indicadores\r\n",
        "# from sklearn.metrics import confusion_matrix, classification_report\r\n",
        "# from sklearn import metrics\r\n",
        "\r\n",
        "#print(\"Acurácia da Máquina = \", metrics.accuracy_score(y_test, y_pred)*100)\r\n",
        "# cm = confusion_matrix(y_test,y_pred)\r\n",
        "# cr = classification_report(y_test, y_pred)\r\n",
        "# print(cm)\r\n",
        "# print(cr)"
      ],
      "execution_count": null,
      "outputs": []
    },
    {
      "cell_type": "markdown",
      "metadata": {
        "id": "VDvo-DM4KX4F"
      },
      "source": [
        "### 2° Versão da Máquina Preditiva: Máquina Definitiva "
      ]
    },
    {
      "cell_type": "code",
      "metadata": {
        "id": "fpPFbMa_KHNl"
      },
      "source": [
        "# Importando a Biblioteca do SVM\r\n",
        "#from sklearn.svm import SVC\r\n",
        "# classifier = SVC(kernel='linear',             # ['linear', 'rbf']\r\n",
        "  #               gamma= 1e-5  ,               # [1e-1, 1e-2, 1e-3, 1e-5]\r\n",
        "   #              C=10,                        # [10.0, 100.0, 1000.0, 10000.0]\r\n",
        "    #             random_state=7)"
      ],
      "execution_count": null,
      "outputs": []
    },
    {
      "cell_type": "code",
      "metadata": {
        "id": "8it5ASiDKTn2"
      },
      "source": [
        "#Treinando a Máquina com o SVC\r\n",
        "# classifier.fit(X_train,y_train)"
      ],
      "execution_count": null,
      "outputs": []
    },
    {
      "cell_type": "code",
      "metadata": {
        "id": "rQzZlnQcKTsf"
      },
      "source": [
        "#Fazendo novas previsões com os dados de teste\r\n",
        "# y_pred = classifier.predict(X_test)\r\n",
        "\r\n",
        "# print(\"\\n---------------------------\\n\")\r\n",
        "# print(\"Predicted Values for Test Set :\\n\",y_pred)\r\n",
        "# print(\"\\n---------------------------\\n\")\r\n",
        "# print(\"Actual Values for Test Set :\\n\",y_test"
      ],
      "execution_count": null,
      "outputs": []
    },
    {
      "cell_type": "code",
      "metadata": {
        "id": "0DBz8kYrKTye"
      },
      "source": [
        "#Imprimindo os hyperparâmetros utilizados na criação da Maquina Preditiva Definitiva\r\n",
        "classifier"
      ],
      "execution_count": null,
      "outputs": []
    },
    {
      "cell_type": "code",
      "metadata": {
        "id": "FdLCtk-hKnJ6"
      },
      "source": [
        "# Calculando a Acurácia da Máquina Preditiva\r\n",
        "# from sklearn import metrics\r\n",
        "# print(\"Prediction Accuracy = \", metrics.accuracy_score(y_test, y_pred))\r\n",
        "\r\n",
        "# Comparando valores Reais com Preditos pela Máquina\r\n",
        "# print(\"\\nActual vs Predicted  \\n------------------------------\\n\")\r\n",
        "# error_df = pd.DataFrame({\"Actual\" : y_test,\r\n",
        "  #                       \"Predicted\" : y_pred})\r\n",
        "\r\n",
        "#error_df.head(5)"
      ],
      "execution_count": null,
      "outputs": []
    },
    {
      "cell_type": "code",
      "metadata": {
        "id": "-iBw2_ghKnVW"
      },
      "source": [
        "\r\n",
        "#Usando a confusion matrix e o classification report para avaliar a Máquina\r\n",
        "# from sklearn.metrics import confusion_matrix, classification_report\r\n",
        "\r\n",
        "# cm = confusion_matrix(y_test,y_pred)\r\n",
        "# cr = classification_report(y_test, y_pred)"
      ],
      "execution_count": null,
      "outputs": []
    },
    {
      "cell_type": "code",
      "metadata": {
        "id": "sOlUBXyKKnZ2"
      },
      "source": [
        "# Imprimindo a Confusion Matrix e o Classification Report\r\n",
        "# print(cm)\r\n",
        "# print(cr)"
      ],
      "execution_count": null,
      "outputs": []
    },
    {
      "cell_type": "code",
      "metadata": {
        "id": "Q9BvisFaKndK"
      },
      "source": [
        ""
      ],
      "execution_count": null,
      "outputs": []
    },
    {
      "cell_type": "markdown",
      "metadata": {
        "id": "S7BMx-pEzTgs"
      },
      "source": [
        "### <font color = ' blue '>**Modelo Final no Teste**</font>"
      ]
    },
    {
      "cell_type": "code",
      "metadata": {
        "id": "9_3j7lmqzJgn"
      },
      "source": [
        "from sklearn.metrics import roc_auc_score\r\n",
        "\r\n",
        "model = xgb.XGBClassifier(learning_rate=0.009, max_depth=6, min_child_weight=3,\r\n",
        "                     subsample=0.15, colsample_bylevel=0.85, n_estimators=500)\r\n",
        "model.fit(X_train, y_train)\r\n",
        "p = model.predict_proba(X_test)\r\n",
        "roc_auc_score(y_test, p[:, 1])"
      ],
      "execution_count": null,
      "outputs": []
    },
    {
      "cell_type": "markdown",
      "metadata": {
        "id": "-2z4X_Gy11iB"
      },
      "source": [
        "\r\n",
        "# <font color = ' arrow'>**6 - Publicação do modelo em Produção**</font>"
      ]
    },
    {
      "cell_type": "markdown",
      "metadata": {
        "id": "EYjQ_Q7vK-2g"
      },
      "source": [
        "### <font color='Blue'>Deploy - Implementando a Maquina Preditiva na WEB</font>\r\n",
        "#### **Passo a Passo** Implementação do Sistema de Classificação de Risco do Cliente:"
      ]
    },
    {
      "cell_type": "markdown",
      "metadata": {
        "id": "dZ2LTrBXLalu"
      },
      "source": [
        "**1°** Realizar o download da ferramenta \"Visual Studio Code\" no link abaixo:\r\n",
        "\r\n",
        "https://code.visualstudio.com/"
      ]
    },
    {
      "cell_type": "markdown",
      "metadata": {
        "id": "HVxxcUKsLqto"
      },
      "source": [
        "**2°** Instalar a ferramenta: Clicar em \"next\" e \"finish\" (simples assim...)"
      ]
    },
    {
      "cell_type": "markdown",
      "metadata": {
        "id": "VKJ-nopPLiEX"
      },
      "source": [
        "**3°** Criar um diretório \"app\" no seu Drive \"C\"\r\n",
        "\r\n",
        "Ex: **C:\\app**"
      ]
    },
    {
      "cell_type": "markdown",
      "metadata": {
        "id": "MFYlAfZhL5bc"
      },
      "source": [
        "**4°** Fazer o Download da pasta \"maratona\" disponibilizada na página da maratona e via Canal no Telegram."
      ]
    },
    {
      "cell_type": "markdown",
      "metadata": {
        "id": "h9U1Ibo-LiIv"
      },
      "source": [
        "**5°** Salvar essa pasta dentro do diretório app. \r\n",
        "\r\n",
        "Ex: **C:\\app\\maratona** \r\n",
        "\r\n",
        "\r\n",
        "\r\n",
        "**Obs:** dentro da pasta maratona temos 3 arquivos:\r\n",
        "\r\n",
        "1° risco.csv                           - Nossa fonte de dados\r\n",
        "\r\n",
        "2° app_risco.py                        - Nosso Aplicativo web\r\n",
        "\r\n",
        "3° Sistema_Classificação_Risco.ipynb   - Nosso Script de Criação da Máquina Preditiva"
      ]
    },
    {
      "cell_type": "markdown",
      "metadata": {
        "id": "Tic-7DEyLiM7"
      },
      "source": [
        "**6°** Abrir o VS Code e clicar no menu \"File\", depois \"Open Folder\" e vai navegar até o diretório **\"C:\\app\\maratona\"**"
      ]
    },
    {
      "cell_type": "markdown",
      "metadata": {
        "id": "clWuImIgMP3c"
      },
      "source": [
        "**7°** Vai no menu \"terminal\", depois \"New Terminal\". Perceba que vai abrir, lá embaixo, um terminal de comando, tipo o \"CMD\" (tela preta) do windows."
      ]
    },
    {
      "cell_type": "markdown",
      "metadata": {
        "id": "LMeI5e01ME1v"
      },
      "source": [
        "**8°** executar os seguinte comandos:\r\n",
        "\r\n",
        "a) pip install plotly     +  tecla enter\r\n",
        "\r\n",
        "b) pip install streamlit  +  tecla enter"
      ]
    },
    {
      "cell_type": "markdown",
      "metadata": {
        "id": "UGH0gllkMXmk"
      },
      "source": [
        "**9°** Executar o comando de abertura (no terminal do VS Code), do nosso LINDO sistema:\r\n",
        "\r\n",
        "   **streamlit run app_risco.py**\r\n",
        "\r\n",
        "obs: Nosso sistema vai abrir na WEB. Ver no seu navegador web."
      ]
    },
    {
      "cell_type": "code",
      "metadata": {
        "id": "HGjcuGMg1wla"
      },
      "source": [
        ""
      ],
      "execution_count": null,
      "outputs": []
    },
    {
      "cell_type": "code",
      "metadata": {
        "id": "LBJyqg1vK4Qz"
      },
      "source": [
        ""
      ],
      "execution_count": null,
      "outputs": []
    },
    {
      "cell_type": "markdown",
      "metadata": {
        "id": "SHbFaBIL5mBh"
      },
      "source": [
        "# <font color = ' arrow'>**7 - Considerações finais**</font>"
      ]
    },
    {
      "cell_type": "markdown",
      "metadata": {
        "id": "l7CZIFf35v8s"
      },
      "source": [
        "# <font color = ' arrow'>**8 - Fonte e Bibliografias**</font>"
      ]
    },
    {
      "cell_type": "markdown",
      "metadata": {
        "id": "EC_c5O5v54ld"
      },
      "source": [
        "# <font color = ' arrow'>**Agradecimentos**</font>"
      ]
    },
    {
      "cell_type": "markdown",
      "metadata": {
        "id": "83nKJ84o6AYV"
      },
      "source": [
        ""
      ]
    }
  ]
}